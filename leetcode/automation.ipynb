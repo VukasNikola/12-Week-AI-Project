{
 "cells": [
  {
   "cell_type": "markdown",
   "id": "8640490d",
   "metadata": {},
   "source": [
    "1. paste the link\n",
    "2. from link extract information\n",
    "3. from information create .md in the format like before"
   ]
  },
  {
   "cell_type": "code",
   "execution_count": null,
   "id": "75f94d29",
   "metadata": {
    "vscode": {
     "languageId": "plaintext"
    }
   },
   "outputs": [],
   "source": [
    "import os\n",
    "# Get the list of all files and directories\n",
    "path = \"D:\\12-Week Project\\leetcode\"\n",
    "dir_list = os.listdir(path)\n",
    "print(\"Files and directories in '\", path, \"' :\")\n",
    "# prints all files\n",
    "print(dir_list)"
   ]
  }
 ],
 "metadata": {
  "language_info": {
   "name": "python"
  }
 },
 "nbformat": 4,
 "nbformat_minor": 5
}
