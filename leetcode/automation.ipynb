{
 "cells": [
  {
   "cell_type": "markdown",
   "id": "8640490d",
   "metadata": {},
   "source": [
    "1. paste the link\n",
    "2. from link extract information\n",
    "3. from information create .md in the format like before"
   ]
  },
  {
   "cell_type": "code",
   "execution_count": 8,
   "id": "75f94d29",
   "metadata": {},
   "outputs": [
    {
     "name": "stdout",
     "output_type": "stream",
     "text": [
      "<Response [403]>\n",
      "<!DOCTYPE html>\n",
      "<html lang=\"en-US\">\n",
      " <head>\n",
      "  <title>\n",
      "   Just a moment...\n",
      "  </title>\n",
      "  <meta content=\"text/html; charset=utf-8\" http-equiv=\"Content-Type\"/>\n",
      "  <meta content=\"IE=Edge\" http-equiv=\"X-UA-Compatible\"/>\n",
      "  <meta content=\"noindex,nofollow\" name=\"robots\"/>\n",
      "  <meta content=\"width=device-width,initial-scale=1\" name=\"viewport\"/>\n",
      "  <style>\n",
      "   *{box-sizing:border-box;margin:0;padding:0}html{line-height:1.15;-webkit-text-size-adjust:100%;color:#313131;font-family:system-ui,-apple-system,BlinkMacSystemFont,Segoe UI,Roboto,Helvetica Neue,Arial,Noto Sans,sans-serif,Apple Color Emoji,Segoe UI Emoji,Segoe UI Symbol,Noto Color Emoji}body{display:flex;flex-direction:column;height:100vh;min-height:100vh}.main-content{margin:8rem auto;max-width:60rem;padding-left:1.5rem}@media (width <= 720px){.main-content{margin-top:4rem}}.h2{font-size:1.5rem;font-weight:500;line-height:2.25rem}@media (width <= 720px){.h2{font-size:1.25rem;line-height:1.5rem}}#challenge-error-text{background-image:url(data:image/svg+xml;base64,PHN2ZyB4bWxucz0iaHR0cDovL3d3dy53My5vcmcvMjAwMC9zdmciIHdpZHRoPSIzMiIgaGVpZ2h0PSIzMiIgZmlsbD0ibm9uZSI+PHBhdGggZmlsbD0iI0IyMEYwMyIgZD0iTTE2IDNhMTMgMTMgMCAxIDAgMTMgMTNBMTMuMDE1IDEzLjAxNSAwIDAgMCAxNiAzbTAgMjRhMTEgMTEgMCAxIDEgMTEtMTEgMTEuMDEgMTEuMDEgMCAwIDEtMTEgMTEiLz48cGF0aCBmaWxsPSIjQjIwRjAzIiBkPSJNMTcuMDM4IDE4LjYxNUgxNC44N0wxNC41NjMgOS41aDIuNzgzem0tMS4wODQgMS40MjdxLjY2IDAgMS4wNTcuMzg4LjQwNy4zODkuNDA3Ljk5NCAwIC41OTYtLjQwNy45ODQtLjM5Ny4zOS0xLjA1Ny4zODktLjY1IDAtMS4wNTYtLjM4OS0uMzk4LS4zODktLjM5OC0uOTg0IDAtLjU5Ny4zOTgtLjk4NS40MDYtLjM5NyAxLjA1Ni0uMzk3Ii8+PC9zdmc+);background-repeat:no-repeat;background-size:contain;padding-left:34px}@media (prefers-color-scheme:dark){body{background-color:#222;color:#d9d9d9}}\n",
      "  </style>\n",
      "  <meta content=\"360\" http-equiv=\"refresh\"/>\n",
      " </head>\n",
      " <body>\n",
      "  <div class=\"main-wrapper\" role=\"main\">\n",
      "   <div class=\"main-content\">\n",
      "    <noscript>\n",
      "     <div class=\"h2\">\n",
      "      <span id=\"challenge-error-text\">\n",
      "       Enable JavaScript and cookies to continue\n",
      "      </span>\n",
      "     </div>\n",
      "    </noscript>\n",
      "   </div>\n",
      "  </div>\n",
      "  <script>\n",
      "   (function(){window._cf_chl_opt={cvId: '3',cZone: \"leetcode.com\",cType: 'managed',cRay: '935632aabd7e5bb4',cH: 'fow1QRr3pWM7nsEbrTlgHxjYQ_SOMETE84P2rmlhuRM-1745503971-1.2.1.1-Ub7758ZDprlhlsmsD5_CYahpQ4UoT1Ge8ojCFcVUterf1sEnBFEOdE7gP84_.qAi',cUPMDTk: \"\\/problems\\/customers-who-never-order\\/description\\/?__cf_chl_tk=UglRq7t32Dry8MMoznaLkffrMazXLVvTiwkgr3hIQEg-1745503971-1.0.1.1-Yg80t_InYsMYRK1YLyhYGKbPpGzTZm4L.vMt4FEOT5c\",cFPWv: 'g',cITimeS: '1745503971',cTplC: 0,cTplV: 5,cTplB: 'cf',cK: \"unsupported_browser_beacon\",fa: \"\\/problems\\/customers-who-never-order\\/description\\/?__cf_chl_f_tk=UglRq7t32Dry8MMoznaLkffrMazXLVvTiwkgr3hIQEg-1745503971-1.0.1.1-Yg80t_InYsMYRK1YLyhYGKbPpGzTZm4L.vMt4FEOT5c\",md: \"zkIoGfKV.054BTiF2miJYFBQ1JZ8KjOuWVm4E0sHzTQ-1745503971-1.2.1.1-K3PpXDIp5Y4O8nVCfU7x_1q8Ln.iefg4RWiPfyD7G9u5TYcIXQ1MlOmxDCVnNOVhZtfylWd8w._GQRebGS6lvppRrur7BiJ_8diKwIc0ZjfPsyyQ5qhMxhtN8zoZgS5wKCcHkUHmwojmJbZwFp9lfkaEc3_utaBhuVMDmV3VMP6euWlXtgYoT09Ja69Mxywne301o9LbN6NT.Btlkci89Zpb3iFW_PDfl5D_X2RU6laHS3LvT4l6.ZWug05mtuX1qg7932NMEAuGNy5gjV7RPHEpHtqittBo4bg7N.vKW.3QCyLi81KJ8hCSHyY.ro1jXUzCRveErcOrcfNlTH9IuYg66BCcoMTMw7Lnfr41cK2G0ETdGozTzHYlrcluwvdI0LKJMu0Lkcxz3HK6JNxjkOdHpYUp00GGI4frFKE_ylnznfUGjo8k6MYpUNfhuWShpgFGJqq6C0lr5CnLs1t8pr7LWXaEyyfnrgp8xJOkoblBGnEcU58.Jb4NHBO6i9lFF9mZM6CAKaXpATKGdZf743.IinST4Uwt1owxtgmMC_r2_DGWry7jL.OA_9frxA0n7OkC48ygcLYnic7oyMYJf..IvMQHWvuTyaAGzcUBIQXJxgV8VBENV.a6f7RIxDczk0yP6OOM0pbzmUCS78kenvG1ExkeYyE8qqoPi.wEBrw_qqM6yC5UuCRK0uC_bTGlJcK3B8qENUd8W2iKD.zTnQF9zRgg1ayMc_6n82nNhL0dT7f4N5EobWzYOZnwplk6w5u.b6.da_eaQlTtarAMw2kcS6bJIIbHNCQ.9GDrMTk8XDIU8mvlztrGoTX_jf3Ur1xo2._W5mMdwHROQWJTIzxrETTSwxt0zSep.JcSCTPGXEu7RI0CbCkFpG0AH54t3t14WEo7dfAzPfXHi0Ti5JB82Uue9dZL0efRFQLH5vJKSxlQdCM3BBAYl21HbtPAoaFSFNECg9xOaXnAnqzgvSj3zu0MypPbHpN6nBSaLv1f4MgPG7WBUG2DNM7QpgtpOg7bvYNC7I3xQzPLPdCTg1reB0_mvOxQapDAVvYq3gIYL7Z14yPbrS5JSLRrjeir\",mdrd: \"v5VVknCA13ZZy1.OO2stlvTLV_RS2LvENC.is0mDojI-1745503971-1.2.1.1-Qy_kJvB7ymYM9IYrUnJ7Rx6mLuuJPCbA_pgVqakVTh6rX2GM8K1VT8wZZ63mtt8qrmw14krBxHFmrfIAiTYQQ76LqLbR2dz7l_AKpxATRqN9r9kQBuzunPz9kToljTOVGMycri2y4TjPj7Vq.XD_OOa.ShNMxLATX6.DHnuhpzfDxMHtVYEnL6RBi3XJBuggLmZ5qTJ_VsAD4hFWb_5YolnOSGiTjvIOGpdJ17JudC9DfW19Ndlk0amKjgEagJtxHSjHG_Wq4Zg.TS8sdoQ0gzZeKejthyihAqEF6tHPcNUHqMTbEzEPbpzkJDvBExGqwEVehfrNZluS_2O.olp7LFiOK.V6DSXx52L4nQXhIFmVd3cHaygbXmWVwJRL_bPiZkeqMmgjJzWeGb80vaL_eiJ2DB8QGh733M635hwRNgDaQS.yWlx44wr2qrkXRooBihAtMnanVlaYO.WbBHis4UuPzuZXVp6zP_LCKdnCRXgxwCDa_Sn9miF9IiBBfMO.ViLQ0EpRbT1ZMls_bXhs_LpTHU1_v.QoMQnnmXLRkzyJNFEEc3S.Qz_hRqDpGUu0whumKe2Yfp7XpwmJP8NZeHfZ.URi9xCBKHMJzqEIT2bM8ZJtelNjp065_B.HEuaBIQTPgt62IkUPrDbCPmT0Y5LbUTz6elJOf28Y0LD3iHMC9AAfzbXWsCt9BY6T1kuvduTI_owmslH7AH.GNMCdINhWozkPhYXj2u.56QvC6ujMt8t4twoqapJGVCyG0KqgbZ01SnzneeaIryvtk0F4GlvXzOYmvtVGuvGyO3Jo53DdeW5j3GM0XNpNrMwpyd2p921cg.KNHjOUE0d4ayOlL679UXjYkwNwKgw3GVU8HdpRWpyjPm_LvcM0DfQkeSyWna_0I53HljrrGFmmIyaxKsV_WJRLjW4neJZEjYbENYS.cfgGDqbhMERunLGWihzkXrQt7jubyZwWis92WefkyvP.qDRKfX8v7uDl5B3lv5SrxXS0Jj9GvMZh3w80GYYxurGZc4ns2ouzflk8dHK.T2VugkEiGg8EZ_7X9QD8NoK7gAVxJXE_St9oWTD0mhcJNWzbGgi5MTjj7cr3TrDUY7BHWnHQ2FBHGv_GeH0arjvztSaKRMJEjqgD4Vi15zwnuhGNtvpFMThFbQo0ALw1Pme7XMI1D.6.6yMuelNXIrsGesFkelSsfqra7NQKGI_i_VxyEsdxsb76kC30xQm6HjfI3Oja0TXzvL3sTgZDm7C.f4EgjXKl80N6TImJJCpXxhQ_VyNyzbiS_N5spNuuTGA.sFeg0t.wHNMrOOFql2oEUwfaq4SJNYkmRR29g7qM6CBcqXgbclkYz4N_Di2gewn72cQClITU1s5k8r2cVz0BQkrG5ADVOYPhJWcjunntPPUPipSomFVh8STeqnk7ZXa3mMGwcUYXmK4UGBu6bLmwnPclM35sRIfa22E9ODx4Yt89eKEvqswsIn5f1w.VO4hOt.z9F96_.bsef1kZ86DC3cFm_3JpEMByvKQMqEb3yDIbTuJw7IEt1pSa6WWanIV3ZxEeqUzLahZ3jV2ZvSU4WXsCHxeDK18fmzHywcUPEE_mH2Kb3mJuZW.HwJlcvutsPTqkElLJhUN9WFlAWMqDIAfFkdbI7WpMVAwN9vIaHzayzW9.A6Ay94LJki4L3XTp4B2AG1Kbn2n9UNUZbXvmiselpGkJKPxghLTLcbWbFLggQ4Qti61Dfa8Ue7xXw2P5vJexIwM5xrQrvnKILX1eVB4wevOkd8_qmGuJ8tzM1OCJae70HOwXQZfKNybQaE8LIRuE9zKWm8a4SXoNQ5GhXE48vNbYjGsQpV3cJMIvs_Ivj3HHxRSYdBoCcBI1f1NVFO059bmQ6F5PrquytcIC2RzA3dmOYpGF.svDC2mWA9eGW5XP9GhSvib1GNYkaOq3p7dNpzAMjQP7gQeMuHatEE.d9L.YrgDBOo8f8j09b4m4iKHr3T5hfzXXMW7f7x4cU6cyuH1m7SPs4Q6XzRAlvfhOqupuoPYNfJpPlktXwSIg_6lRU2hDhfLib.Kt2p720l05AMIBfxOC7uThaphQf9jnL57ubgIus0vXqMKwMA4rr61TIBI.tBUsZgKyNRL3ao..VXRR.aEW3k7opWYPHE0bVW45iC5exwUeGsRjoyaRERsRPOi_lkymZE436qfcW5MVmq4iU_.06QKzMWBmYiNLsjAk0DPb3bosxVsCcvDTaatouET7_55t2prH115de3MeHSMjX3PadpayBEvx9AZcn4aqjYrRlC5_ngyY\"};var cpo = document.createElement('script');cpo.src = '/cdn-cgi/challenge-platform/h/g/orchestrate/chl_page/v1?ray=935632aabd7e5bb4';window._cf_chl_opt.cOgUHash = location.hash === '' && location.href.indexOf('#') !== -1 ? '#' : location.hash;window._cf_chl_opt.cOgUQuery = location.search === '' && location.href.slice(0, location.href.length - window._cf_chl_opt.cOgUHash.length).indexOf('?') !== -1 ? '?' : location.search;if (window.history && window.history.replaceState) {var ogU = location.pathname + window._cf_chl_opt.cOgUQuery + window._cf_chl_opt.cOgUHash;history.replaceState(null, null, \"\\/problems\\/customers-who-never-order\\/description\\/?__cf_chl_rt_tk=UglRq7t32Dry8MMoznaLkffrMazXLVvTiwkgr3hIQEg-1745503971-1.0.1.1-Yg80t_InYsMYRK1YLyhYGKbPpGzTZm4L.vMt4FEOT5c\" + window._cf_chl_opt.cOgUHash);cpo.onload = function() {history.replaceState(null, null, ogU);}}document.getElementsByTagName('head')[0].appendChild(cpo);}());\n",
      "  </script>\n",
      " </body>\n",
      "</html>\n",
      "\n"
     ]
    }
   ],
   "source": [
    "import requests\n",
    "from bs4 import BeautifulSoup\n",
    "\n",
    "\n",
    "# Making a GET request\n",
    "r = requests.get('https://leetcode.com/problems/customers-who-never-order/description/')\n",
    "\n",
    "# check status code for response received\n",
    "# success code - 200\n",
    "print(r)\n",
    "\n",
    "# Parsing the HTML\n",
    "soup = BeautifulSoup(r.content, 'html.parser')\n",
    "print(soup.prettify())\n"
   ]
  },
  {
   "cell_type": "code",
   "execution_count": null,
   "id": "98daa0cf",
   "metadata": {},
   "outputs": [],
   "source": []
  }
 ],
 "metadata": {
  "kernelspec": {
   "display_name": "base",
   "language": "python",
   "name": "python3"
  },
  "language_info": {
   "codemirror_mode": {
    "name": "ipython",
    "version": 3
   },
   "file_extension": ".py",
   "mimetype": "text/x-python",
   "name": "python",
   "nbconvert_exporter": "python",
   "pygments_lexer": "ipython3",
   "version": "3.12.7"
  }
 },
 "nbformat": 4,
 "nbformat_minor": 5
}
