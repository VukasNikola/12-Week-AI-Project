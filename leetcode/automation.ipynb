{
 "cells": [
  {
   "cell_type": "code",
   "execution_count": 1,
   "id": "ccb39ff2",
   "metadata": {},
   "outputs": [
    {
     "name": "stdout",
     "output_type": "stream",
     "text": [
      "Requirement already satisfied: requests in d:\\anaconda\\lib\\site-packages (2.32.3)\n",
      "Requirement already satisfied: charset-normalizer<4,>=2 in d:\\anaconda\\lib\\site-packages (from requests) (3.3.2)\n",
      "Requirement already satisfied: idna<4,>=2.5 in d:\\anaconda\\lib\\site-packages (from requests) (3.7)\n",
      "Requirement already satisfied: urllib3<3,>=1.21.1 in d:\\anaconda\\lib\\site-packages (from requests) (2.2.3)\n",
      "Requirement already satisfied: certifi>=2017.4.17 in d:\\anaconda\\lib\\site-packages (from requests) (2025.1.31)\n",
      "Note: you may need to restart the kernel to use updated packages.\n"
     ]
    }
   ],
   "source": [
    "pip install requests"
   ]
  },
  {
   "cell_type": "markdown",
   "id": "8640490d",
   "metadata": {},
   "source": [
    "1. paste the link\n",
    "2. from link extract information\n",
    "3. from information create .md in the format like before"
   ]
  },
  {
   "cell_type": "code",
   "execution_count": null,
   "id": "75f94d29",
   "metadata": {},
   "outputs": [
    {
     "name": "stdout",
     "output_type": "stream",
     "text": [
      "Requirement already satisfied: requests in d:\\anaconda\\lib\\site-packages (2.32.3)\n",
      "Requirement already satisfied: charset-normalizer<4,>=2 in d:\\anaconda\\lib\\site-packages (from requests) (3.3.2)\n",
      "Requirement already satisfied: idna<4,>=2.5 in d:\\anaconda\\lib\\site-packages (from requests) (3.7)\n",
      "Requirement already satisfied: urllib3<3,>=1.21.1 in d:\\anaconda\\lib\\site-packages (from requests) (2.2.3)\n",
      "Requirement already satisfied: certifi>=2017.4.17 in d:\\anaconda\\lib\\site-packages (from requests) (2025.1.31)\n",
      "Generated .\\8-Find-Users-With-Valid-E-Mails.md\n"
     ]
    }
   ],
   "source": [
    "# Cell 2: Imports and GraphQL setup\n",
    "import os\n",
    "import re\n",
    "import requests\n",
    "from datetime import datetime\n",
    "\n",
    "# LeetCode GraphQL endpoint and query\n",
    "graphql_url = \"https://leetcode.com/graphql\"\n",
    "graphql_query = '''\n",
    "query getQuestionDetail($titleSlug: String!) {\n",
    "  question(titleSlug: $titleSlug) {\n",
    "    questionId\n",
    "    title\n",
    "    difficulty\n",
    "  }\n",
    "}\n",
    "'''\n",
    "\n",
    "# Cell 3: Helper functions\n",
    "def get_problem_info(url):\n",
    "    \"\"\"\n",
    "    Given a LeetCode problem URL, extract slug and fetch question details.\n",
    "    \"\"\"\n",
    "    m = re.search(r'/problems/([^/]+)/', url)\n",
    "    if not m:\n",
    "        raise ValueError(f\"Invalid LeetCode problem URL: {url}\")\n",
    "    slug = m.group(1)\n",
    "    resp = requests.post(\n",
    "        graphql_url,\n",
    "        json={ 'query': graphql_query, 'variables': {'titleSlug': slug} },\n",
    "        headers={ 'Content-Type': 'application/json', 'X-Requested-With': 'XMLHttpRequest' }\n",
    "    )\n",
    "    resp.raise_for_status()\n",
    "    data = resp.json().get('data', {}).get('question')\n",
    "    if not data:\n",
    "        raise RuntimeError(f\"Could not fetch details for '{slug}'\")\n",
    "    return data['questionId'], data['title'], data['difficulty']\n",
    "\n",
    "\n",
    "def sanitize_filename(s):\n",
    "    \"\"\"Remove forbidden characters and replace spaces with hyphens.\"\"\"\n",
    "    s = re.sub(r'[\\\\/:*?\"<>|]', '', s)\n",
    "    return s.strip().replace(' ', '-')\n",
    "\n",
    "\n",
    "def next_index(directory):\n",
    "    \"\"\"Scan existing 'N-*.md' files to find the next index.\"\"\"\n",
    "    max_i = 0\n",
    "    for fname in os.listdir(directory):\n",
    "        m = re.match(r'^(\\d+)-', fname)\n",
    "        if m:\n",
    "            max_i = max(max_i, int(m.group(1)))\n",
    "    return max_i + 1\n",
    "\n",
    "\n",
    "def create_markdown_file(url, solution_code=None, output_dir='.'):\n",
    "    \"\"\"Generate a numbered markdown file for the given problem URL.\"\"\"\n",
    "    idx = next_index(output_dir)\n",
    "    qid, title, diff = get_problem_info(url)\n",
    "    date_solved = datetime.now().strftime('%d-%m-%Y')\n",
    "\n",
    "    safe_title = sanitize_filename(title)\n",
    "    filename = f\"{idx}-{safe_title}.md\"\n",
    "    filepath = os.path.join(output_dir, filename)\n",
    "\n",
    "    md_lines = [\n",
    "        f\"# [{idx}. {title}]({url})\",  \n",
    "        f\"**Difficulty:** {diff}\",  \n",
    "        f\"**Date Solved:** {date_solved}\\n\",  \n",
    "        \"# Solution:\",\n",
    "    ]\n",
    "    if solution_code:\n",
    "        md_lines.extend([\"```python\", solution_code, \"```\"])\n",
    "    else:\n",
    "        md_lines.append(\"_Add your solution code here_\")\n",
    "\n",
    "    with open(filepath, 'w', encoding='utf-8') as f:\n",
    "        f.write(\"\\n\".join(md_lines))\n",
    "\n",
    "    print(f\"Generated {filepath}\")\n",
    "\n",
    "# Cell 4: Usage example\n",
    "# Replace the URL and optionally provide a code string or path to a .py file\n",
    "problem_url = \"https://leetcode.com/problems/find-users-with-valid-e-mails/description/?envType=study-plan-v2&envId=30-days-of-pandas&lang=pythondata\"\n",
    "# Option A: Direct code\n",
    "solution_code = '''none'''\n",
    "create_markdown_file(problem_url, solution_code)\n",
    "\n",
    "# Option B: Read code from a local file\n",
    "# with open('my_solution.py') as f:\n",
    "#     code_str = f.read()\n",
    "# create_markdown_file(problem_url, code_str)\n"
   ]
  },
  {
   "cell_type": "code",
   "execution_count": null,
   "id": "98daa0cf",
   "metadata": {},
   "outputs": [],
   "source": []
  }
 ],
 "metadata": {
  "kernelspec": {
   "display_name": "base",
   "language": "python",
   "name": "python3"
  },
  "language_info": {
   "codemirror_mode": {
    "name": "ipython",
    "version": 3
   },
   "file_extension": ".py",
   "mimetype": "text/x-python",
   "name": "python",
   "nbconvert_exporter": "python",
   "pygments_lexer": "ipython3",
   "version": "3.12.7"
  }
 },
 "nbformat": 4,
 "nbformat_minor": 5
}
