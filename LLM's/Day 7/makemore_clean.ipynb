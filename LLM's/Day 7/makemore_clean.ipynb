{
 "cells": [
  {
   "cell_type": "code",
   "execution_count": 1,
   "id": "0d5f7dd2",
   "metadata": {},
   "outputs": [],
   "source": [
    "import torch"
   ]
  },
  {
   "cell_type": "code",
   "execution_count": 2,
   "id": "f9bde028",
   "metadata": {},
   "outputs": [],
   "source": [
    "words = open('names.txt', 'r').read().splitlines()"
   ]
  },
  {
   "cell_type": "code",
   "execution_count": 12,
   "id": "54a1097d",
   "metadata": {},
   "outputs": [],
   "source": [
    "B = torch.zeros([27,27])\n",
    "chrs = sorted(list(set(''.join(words))))\n",
    "stoi = {s:i+1 for i,s in enumerate(chrs)}\n",
    "stoi['.'] = 0\n",
    "itos = {i:s for s,i in stoi.items()}"
   ]
  },
  {
   "cell_type": "code",
   "execution_count": 4,
   "id": "cba5711b",
   "metadata": {},
   "outputs": [],
   "source": [
    "for w in words:\n",
    "    w = ['.'] + list(w) + ['.']\n",
    "    for ch1,ch2 in zip(w,w[1:]):\n",
    "        ix1 = stoi[ch1]\n",
    "        ix2 = stoi[ch2]\n",
    "        B[ix1,ix2] += 1\n"
   ]
  },
  {
   "cell_type": "code",
   "execution_count": 5,
   "id": "6b444f96",
   "metadata": {},
   "outputs": [],
   "source": [
    "import matplotlib.pyplot as plt\n",
    "%matplotlib inline\n",
    "import os\n",
    "os.environ[\"KMP_DUPLICATE_LIB_OK\"] = \"TRUE\""
   ]
  },
  {
   "cell_type": "code",
   "execution_count": 6,
   "id": "9e42e631",
   "metadata": {},
   "outputs": [
    {
     "data": {
      "image/png": "[encoded data removed]",
      "text/plain": [
       "<Figure size 640x480 with 1 Axes>"
      ]
     },
     "metadata": {},
     "output_type": "display_data"
    }
   ],
   "source": [
    "plt.imshow(B)\n",
    "plt.show()"
   ]
  },
  {
   "cell_type": "code",
   "execution_count": 7,
   "id": "440895ad",
   "metadata": {},
   "outputs": [],
   "source": [
    "P = B/B.sum(1,keepdim=True)"
   ]
  },
  {
   "cell_type": "code",
   "execution_count": 17,
   "id": "eb0283f5",
   "metadata": {},
   "outputs": [
    {
     "name": "stdout",
     "output_type": "stream",
     "text": [
      "wisemiqus.\n",
      "riella.\n",
      "ziouvarongh.\n",
      "n.\n",
      "adarianaharo.\n",
      "ssyshure.\n",
      "emeri.\n",
      "xaidramamarylya.\n",
      "jiaveil.\n",
      "ma.\n"
     ]
    }
   ],
   "source": [
    "\n",
    "for i in range(10):\n",
    "    ix = 0\n",
    "    name = []\n",
    "    while True:\n",
    "        ltr_ix = torch.multinomial(P[ix], num_samples=1,replacement=True).item()\n",
    "        name.append(itos[ltr_ix])\n",
    "        ix = ltr_ix\n",
    "        if ix == 0:\n",
    "            break\n",
    "    print(''.join(name))\n"
   ]
  },
  {
   "cell_type": "code",
   "execution_count": null,
   "id": "080e7665",
   "metadata": {},
   "outputs": [],
   "source": []
  },
  {
   "cell_type": "code",
   "execution_count": null,
   "id": "ab0ce217",
   "metadata": {},
   "outputs": [],
   "source": []
  }
 ],
 "metadata": {
  "kernelspec": {
   "display_name": "base",
   "language": "python",
   "name": "python3"
  },
  "language_info": {
   "codemirror_mode": {
    "name": "ipython",
    "version": 3
   },
   "file_extension": ".py",
   "mimetype": "text/x-python",
   "name": "python",
   "nbconvert_exporter": "python",
   "pygments_lexer": "ipython3",
   "version": "3.12.7"
  }
 },
 "nbformat": 4,
 "nbformat_minor": 5
}
