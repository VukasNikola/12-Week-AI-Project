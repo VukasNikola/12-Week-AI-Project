{
 "cells": [
  {
   "cell_type": "code",
   "execution_count": 2,
   "id": "33b07586",
   "metadata": {},
   "outputs": [],
   "source": [
    "import numpy as np"
   ]
  },
  {
   "cell_type": "code",
   "execution_count": 3,
   "id": "ba90ce9b",
   "metadata": {},
   "outputs": [],
   "source": [
    "samples = np.array([\n",
    "  [1, 2, 3],\n",
    "  [6, 7, 8],\n",
    "  [7, 8, 9],\n",
    "  [3, 4, 5],\n",
    "  [4, 5, 6],\n",
    "])\n",
    "\n",
    "# By convention, inputs in matrix form are often denoted by a capital X.\n",
    "X = samples\n",
    "\n",
    "targets = np.array([False, True, True, False, False])"
   ]
  },
  {
   "cell_type": "code",
   "execution_count": 27,
   "id": "7770dc9a",
   "metadata": {},
   "outputs": [],
   "source": [
    "uniques, indicies = np.unique(targets, return_inverse=True)\n",
    "# Return inverse means that from the indecies returned in that array if you then use them to call the unique values, you can construct the original data."
   ]
  },
  {
   "cell_type": "code",
   "execution_count": null,
   "id": "94b997f8",
   "metadata": {},
   "outputs": [
    {
     "data": {
      "text/plain": [
       "array([0, 1, 1, 0, 0], dtype=int64)"
      ]
     },
     "execution_count": 33,
     "metadata": {},
     "output_type": "execute_result"
    }
   ],
   "source": [
    "binary = uniques.shape[0]\n",
    "n_samples = samples.shape[0]\n",
    "y = np.zeros((n_samples,binary))"
   ]
  },
  {
   "cell_type": "code",
   "execution_count": 35,
   "id": "85c90aae",
   "metadata": {},
   "outputs": [
    {
     "data": {
      "text/plain": [
       "array([[1., 0.],\n",
       "       [0., 1.],\n",
       "       [0., 1.],\n",
       "       [1., 0.],\n",
       "       [1., 0.]])"
      ]
     },
     "execution_count": 35,
     "metadata": {},
     "output_type": "execute_result"
    }
   ],
   "source": [
    "y[np.arange(n_samples),indicies] = 1\n",
    "y"
   ]
  },
  {
   "cell_type": "code",
   "execution_count": 75,
   "id": "9902ee8c",
   "metadata": {},
   "outputs": [
    {
     "name": "stdout",
     "output_type": "stream",
     "text": [
      "[[-0.72433282 -2.26463532  0.08585342  2.13004535]\n",
      " [-1.02964036 -8.09519327  0.17120801  6.94368505]\n",
      " [-1.09070187 -9.26130486  0.18827893  7.90641299]\n",
      " [-0.84645584 -4.5968585   0.11999526  4.05550123]\n",
      " [-0.90751735 -5.76297009  0.13706617  5.01822917]]\n",
      "[[ 0.27566718 -1.26463532  1.08585342  3.13004535]\n",
      " [-0.02964036 -7.09519327  1.17120801  7.94368505]\n",
      " [-0.09070187 -8.26130486  1.18827893  8.90641299]\n",
      " [ 0.15354416 -3.5968585   1.11999526  5.05550123]\n",
      " [ 0.09248265 -4.76297009  1.13706617  6.01822917]]\n"
     ]
    }
   ],
   "source": [
    "np.random.seed(10)\n",
    "\n",
    "n_features = X.shape[1]\n",
    "n_hidden = 4\n",
    "w_h = np.random.uniform(-0.5,0.5,(n_features,n_hidden))\n",
    "b_h = np.zeros((1,n_hidden))\n",
    "b_h_show = np.ones((1,n_hidden))\n",
    "print(np.dot(X,w_h))\n",
    "print(X@w_h + b_h_show)"
   ]
  },
  {
   "cell_type": "code",
   "execution_count": 76,
   "id": "7dfba257",
   "metadata": {},
   "outputs": [
    {
     "data": {
      "text/plain": [
       "array([[0.        , 0.        , 0.08585342, 2.13004535],\n",
       "       [0.        , 0.        , 0.17120801, 6.94368505],\n",
       "       [0.        , 0.        , 0.18827893, 7.90641299],\n",
       "       [0.        , 0.        , 0.11999526, 4.05550123],\n",
       "       [0.        , 0.        , 0.13706617, 5.01822917]])"
      ]
     },
     "execution_count": 76,
     "metadata": {},
     "output_type": "execute_result"
    }
   ],
   "source": [
    "h1 = X @ w_h + b_h\n",
    "a1 = np.maximum(0,h1) # ReLu...\n",
    "a1"
   ]
  },
  {
   "cell_type": "code",
   "execution_count": 77,
   "id": "fba4c24d",
   "metadata": {},
   "outputs": [
    {
     "data": {
      "text/plain": [
       "array([[0.32118171, 0.66159156],\n",
       "       [1.10083177, 2.19782851],\n",
       "       [1.25676178, 2.5050759 ],\n",
       "       [0.63304174, 1.27608634],\n",
       "       [0.78897175, 1.58333373]])"
      ]
     },
     "execution_count": 77,
     "metadata": {},
     "output_type": "execute_result"
    }
   ],
   "source": [
    "np.random.seed(100)\n",
    "\n",
    "w_o  = np.random.uniform(-0.5,0.5,(n_hidden,binary))\n",
    "b_o = np.zeros((1,binary))\n",
    "o = a1 @ w_o + b_o\n",
    "o"
   ]
  },
  {
   "cell_type": "code",
   "execution_count": null,
   "id": "821001db",
   "metadata": {},
   "outputs": [
    {
     "data": {
      "text/plain": [
       "array([[0.41570992, 0.58429008],\n",
       "       [0.25030304, 0.74969696],\n",
       "       [0.22299211, 0.77700789],\n",
       "       [0.34455863, 0.65544137],\n",
       "       [0.31123284, 0.68876716]])"
      ]
     },
     "execution_count": 85,
     "metadata": {},
     "output_type": "execute_result"
    }
   ],
   "source": [
    "e_x = np.exp(o - o.max(axis=1, keepdims=True))\n",
    "\n",
    "y_hat = e_x/np.sum(e_x,1,keepdims=True)\n",
    "y_hat"
   ]
  },
  {
   "cell_type": "code",
   "execution_count": 91,
   "id": "8e155ece",
   "metadata": {},
   "outputs": [
    {
     "data": {
      "text/plain": [
       "tensor([[0.4157, 0.5843],\n",
       "        [0.2503, 0.7497],\n",
       "        [0.2230, 0.7770],\n",
       "        [0.3446, 0.6554],\n",
       "        [0.3112, 0.6888]], dtype=torch.float64)"
      ]
     },
     "execution_count": 91,
     "metadata": {},
     "output_type": "execute_result"
    }
   ],
   "source": [
    "import torch\n",
    "\n",
    "torch.softmax(torch.tensor(o),1)"
   ]
  },
  {
   "cell_type": "code",
   "execution_count": null,
   "id": "18bc22b0",
   "metadata": {},
   "outputs": [],
   "source": []
  }
 ],
 "metadata": {
  "kernelspec": {
   "display_name": "base",
   "language": "python",
   "name": "python3"
  },
  "language_info": {
   "codemirror_mode": {
    "name": "ipython",
    "version": 3
   },
   "file_extension": ".py",
   "mimetype": "text/x-python",
   "name": "python",
   "nbconvert_exporter": "python",
   "pygments_lexer": "ipython3",
   "version": "3.12.7"
  }
 },
 "nbformat": 4,
 "nbformat_minor": 5
}
