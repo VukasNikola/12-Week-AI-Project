{
 "cells": [
  {
   "cell_type": "code",
   "execution_count": 2,
   "id": "4e1b7f60",
   "metadata": {},
   "outputs": [
    {
     "data": {
      "image/png": "[encoded data removed]",
      "text/plain": [
       "<Figure size 640x480 with 1 Axes>"
      ]
     },
     "metadata": {},
     "output_type": "display_data"
    }
   ],
   "source": [
    "import pandas as pd\n",
    "from sklearn.datasets import load_iris\n",
    "import matplotlib.pyplot as plt\n",
    "import numpy as np\n",
    "\n",
    "iris = pd.DataFrame(load_iris(as_frame=True).frame)\n",
    "plt.plot(iris.loc[:,'petal length (cm)'],iris.loc[:,'petal width (cm)'], 'ro')\n",
    "plt.show()"
   ]
  },
  {
   "cell_type": "markdown",
   "id": "111d66f7",
   "metadata": {},
   "source": [
    "-Covariance classifies 3 types of relationship. Positive, negative and none.\n",
    "\n",
    "-Above on the plot is displayed a postivie relationship. \n",
    "\n",
    "-This means that we can imply some asumption on data on the Y axis based on the data available on the X axis. And vice versa.\n",
    "\n",
    "-If the plot was a flat line, then one value is mapped to multiple values, meaning we can't say anything about the of the second axis from the first. This is when no relationship exist.\n",
    "\n",
    "-Covariance is just a computational stepping stone in the calculation of correlation!!! Which is important!"
   ]
  },
  {
   "cell_type": "code",
   "execution_count": 4,
   "id": "41526e3c",
   "metadata": {},
   "outputs": [
    {
     "data": {
      "text/plain": [
       "1.2956093959731543"
      ]
     },
     "execution_count": 4,
     "metadata": {},
     "output_type": "execute_result"
    }
   ],
   "source": [
    "# Covariance calculation:\n",
    "length = iris.loc[:,'petal length (cm)']\n",
    "width = iris.loc[:,'petal width (cm)']\n",
    "\n",
    "cov = ((length-length.mean())*(width-width.mean())).sum()/(iris.shape[0]-1)\n",
    "cov"
   ]
  },
  {
   "cell_type": "code",
   "execution_count": 5,
   "id": "9a382ddc",
   "metadata": {},
   "outputs": [
    {
     "data": {
      "text/html": [
       "<div>\n",
       "<style scoped>\n",
       "    .dataframe tbody tr th:only-of-type {\n",
       "        vertical-align: middle;\n",
       "    }\n",
       "\n",
       "    .dataframe tbody tr th {\n",
       "        vertical-align: top;\n",
       "    }\n",
       "\n",
       "    .dataframe thead th {\n",
       "        text-align: right;\n",
       "    }\n",
       "</style>\n",
       "<table border=\"1\" class=\"dataframe\">\n",
       "  <thead>\n",
       "    <tr style=\"text-align: right;\">\n",
       "      <th></th>\n",
       "      <th>sepal length (cm)</th>\n",
       "      <th>sepal width (cm)</th>\n",
       "      <th>petal length (cm)</th>\n",
       "      <th>petal width (cm)</th>\n",
       "      <th>target</th>\n",
       "    </tr>\n",
       "  </thead>\n",
       "  <tbody>\n",
       "    <tr>\n",
       "      <th>sepal length (cm)</th>\n",
       "      <td>0.685694</td>\n",
       "      <td>-0.042434</td>\n",
       "      <td>1.274315</td>\n",
       "      <td>0.516271</td>\n",
       "      <td>0.530872</td>\n",
       "    </tr>\n",
       "    <tr>\n",
       "      <th>sepal width (cm)</th>\n",
       "      <td>-0.042434</td>\n",
       "      <td>0.189979</td>\n",
       "      <td>-0.329656</td>\n",
       "      <td>-0.121639</td>\n",
       "      <td>-0.152349</td>\n",
       "    </tr>\n",
       "    <tr>\n",
       "      <th>petal length (cm)</th>\n",
       "      <td>1.274315</td>\n",
       "      <td>-0.329656</td>\n",
       "      <td>3.116278</td>\n",
       "      <td>1.295609</td>\n",
       "      <td>1.372483</td>\n",
       "    </tr>\n",
       "    <tr>\n",
       "      <th>petal width (cm)</th>\n",
       "      <td>0.516271</td>\n",
       "      <td>-0.121639</td>\n",
       "      <td>1.295609</td>\n",
       "      <td>0.581006</td>\n",
       "      <td>0.597315</td>\n",
       "    </tr>\n",
       "    <tr>\n",
       "      <th>target</th>\n",
       "      <td>0.530872</td>\n",
       "      <td>-0.152349</td>\n",
       "      <td>1.372483</td>\n",
       "      <td>0.597315</td>\n",
       "      <td>0.671141</td>\n",
       "    </tr>\n",
       "  </tbody>\n",
       "</table>\n",
       "</div>"
      ],
      "text/plain": [
       "                   sepal length (cm)  sepal width (cm)  petal length (cm)  \\\n",
       "sepal length (cm)           0.685694         -0.042434           1.274315   \n",
       "sepal width (cm)           -0.042434          0.189979          -0.329656   \n",
       "petal length (cm)           1.274315         -0.329656           3.116278   \n",
       "petal width (cm)            0.516271         -0.121639           1.295609   \n",
       "target                      0.530872         -0.152349           1.372483   \n",
       "\n",
       "                   petal width (cm)    target  \n",
       "sepal length (cm)          0.516271  0.530872  \n",
       "sepal width (cm)          -0.121639 -0.152349  \n",
       "petal length (cm)          1.295609  1.372483  \n",
       "petal width (cm)           0.581006  0.597315  \n",
       "target                     0.597315  0.671141  "
      ]
     },
     "execution_count": 5,
     "metadata": {},
     "output_type": "execute_result"
    }
   ],
   "source": [
    "iris.cov()"
   ]
  },
  {
   "cell_type": "markdown",
   "id": "0a284cea",
   "metadata": {},
   "source": [
    "-When values are in quadrant 1 and 3 then that covariance contributes with a POSITIVE value on the covariance.\n",
    "\n",
    "-The value of the covariance doesn't tell us much... Doesn't tell us the slope, so we don't know if the relationship is steep or not...\n",
    "\n",
    "-Just tells us if the slope is positive or not... Also doesn't tell us if the values are close to the line or not\n",
    "\n",
    "-The covariance of a variable with itself is just its estimated variance!!!!\n",
    "\n",
    "-If you multiply the data by 2 and then see the covariance with itself, the relationship doesn't change, but the covariance is times 4. So we can't say much from the covariance."
   ]
  },
  {
   "cell_type": "code",
   "execution_count": 7,
   "id": "c43d7afe",
   "metadata": {},
   "outputs": [
    {
     "name": "stdout",
     "output_type": "stream",
     "text": [
      "3.116277852348993 12.465111409395972\n"
     ]
    }
   ],
   "source": [
    "length2 = length*2\n",
    "cov_l = ((length-length.mean())*(length-length.mean())).sum()/(length.shape[0]-1)\n",
    "cov_l_2x =((length2-length2.mean())*(length2-length2.mean())).sum()/(length2.shape[0]-1)\n",
    "print(cov_l,cov_l_2x)\n",
    "# Covariance values are sensitive to the scale of data so they are difficult to interpret\n",
    "# Correlation calculates the relationship without being sensitive to scale and data"
   ]
  },
  {
   "cell_type": "markdown",
   "id": "cb399210",
   "metadata": {},
   "source": [
    "-If the data were closer to the trend line, then you could say that the infered value falls in a smaller range\n",
    "\n",
    "-Closer the data is to the trend line that means that the relationship between A and B is relatively STRONG\n",
    "\n",
    "-We don't say that a value for A causes a value for B, instead we say that the values tend to infer one-another, but another thing can cause that trend we are observing.\n",
    "\n",
    "-We quantify how strong a relationship is by the correlation value!!!!\n",
    "\n",
    "-Max value is 1. Meaning that a straight line can be pulled through all data.\n",
    "\n",
    "-Doesn't depend on scale of data\n",
    "\n",
    "-We have to be careful when pulling a correlation when we have few data. Because if we have an empty graph and put 2 random points, we can connect them with a line that will mean a correlation of 1. If we have more data, then 3 random points connected by a line will not always mean a correlation of 1. So we have more confidence the more data we have.\n",
    "\n",
    "-When we talk about correlation we are talking about a straight line\n",
    "\n",
    "-For correlation a p-value tells us the probability that a randomly drawn dot will result in a similarly strong relationship or stronger. So when we have a small p-value, that means that our data is strongly correlated, and a random value won't make the correlation better. \n",
    "\n",
    "-Thus, smaller the p-value the more confident we can be in making predictions with te line.\n",
    "\n",
    "-Correlation -1 is the strongest negative relationship\n",
    "\n",
    "-No matter the value, we can still infer a value, but our confidence is lower the lower the value is.\n",
    "\n",
    "-In case we have 3 graphs where each one has more data on the same variables, but the correlation is the same(small), we look at the p value. The p value is lowest on the one with the most data, because a random point is not likely to increase the correlation. We have more confidence at predicting the value on the graph with the lowest p-value, but since our correlation is small, our guess will still be bad, but at least we are confident!\n",
    "\n",
    "-The more data we have the smaller the p-value"
   ]
  },
  {
   "cell_type": "code",
   "execution_count": null,
   "id": "ff9fe92b",
   "metadata": {},
   "outputs": [
    {
     "data": {
      "text/html": [
       "<div>\n",
       "<style scoped>\n",
       "    .dataframe tbody tr th:only-of-type {\n",
       "        vertical-align: middle;\n",
       "    }\n",
       "\n",
       "    .dataframe tbody tr th {\n",
       "        vertical-align: top;\n",
       "    }\n",
       "\n",
       "    .dataframe thead th {\n",
       "        text-align: right;\n",
       "    }\n",
       "</style>\n",
       "<table border=\"1\" class=\"dataframe\">\n",
       "  <thead>\n",
       "    <tr style=\"text-align: right;\">\n",
       "      <th></th>\n",
       "      <th>sepal length (cm)</th>\n",
       "      <th>sepal width (cm)</th>\n",
       "      <th>petal length (cm)</th>\n",
       "      <th>petal width (cm)</th>\n",
       "      <th>target</th>\n",
       "    </tr>\n",
       "  </thead>\n",
       "  <tbody>\n",
       "    <tr>\n",
       "      <th>sepal length (cm)</th>\n",
       "      <td>1.000000</td>\n",
       "      <td>-0.117570</td>\n",
       "      <td>0.871754</td>\n",
       "      <td>0.817941</td>\n",
       "      <td>0.782561</td>\n",
       "    </tr>\n",
       "    <tr>\n",
       "      <th>sepal width (cm)</th>\n",
       "      <td>-0.117570</td>\n",
       "      <td>1.000000</td>\n",
       "      <td>-0.428440</td>\n",
       "      <td>-0.366126</td>\n",
       "      <td>-0.426658</td>\n",
       "    </tr>\n",
       "    <tr>\n",
       "      <th>petal length (cm)</th>\n",
       "      <td>0.871754</td>\n",
       "      <td>-0.428440</td>\n",
       "      <td>1.000000</td>\n",
       "      <td>0.962865</td>\n",
       "      <td>0.949035</td>\n",
       "    </tr>\n",
       "    <tr>\n",
       "      <th>petal width (cm)</th>\n",
       "      <td>0.817941</td>\n",
       "      <td>-0.366126</td>\n",
       "      <td>0.962865</td>\n",
       "      <td>1.000000</td>\n",
       "      <td>0.956547</td>\n",
       "    </tr>\n",
       "    <tr>\n",
       "      <th>target</th>\n",
       "      <td>0.782561</td>\n",
       "      <td>-0.426658</td>\n",
       "      <td>0.949035</td>\n",
       "      <td>0.956547</td>\n",
       "      <td>1.000000</td>\n",
       "    </tr>\n",
       "  </tbody>\n",
       "</table>\n",
       "</div>"
      ],
      "text/plain": [
       "                   sepal length (cm)  sepal width (cm)  petal length (cm)  \\\n",
       "sepal length (cm)           1.000000         -0.117570           0.871754   \n",
       "sepal width (cm)           -0.117570          1.000000          -0.428440   \n",
       "petal length (cm)           0.871754         -0.428440           1.000000   \n",
       "petal width (cm)            0.817941         -0.366126           0.962865   \n",
       "target                      0.782561         -0.426658           0.949035   \n",
       "\n",
       "                   petal width (cm)    target  \n",
       "sepal length (cm)          0.817941  0.782561  \n",
       "sepal width (cm)          -0.366126 -0.426658  \n",
       "petal length (cm)          0.962865  0.949035  \n",
       "petal width (cm)           1.000000  0.956547  \n",
       "target                     0.956547  1.000000  "
      ]
     },
     "execution_count": 9,
     "metadata": {},
     "output_type": "execute_result"
    }
   ],
   "source": [
    "iris.corr()"
   ]
  },
  {
   "cell_type": "markdown",
   "id": "06e88366",
   "metadata": {},
   "source": [
    "-The denominator in the correlation equation normalizes the data, meaning scale of the data doesn't mean anything\n",
    "\n",
    "-A p-value of 0.03 means that there is a 3% chance of a random data point producing similarly strong relationship or stronger.\n",
    "\n",
    "-Even though we have a better intuition with correlation it is hard to say that a corr of 0.9 is twice as good as 0.64, here we use R^2 to grasp this.\n",
    "\n",
    "-But when we have R^2=0.7 that means that it is 1.4 times better than R^2 = 0.5 because 1.4*5=0.7...\n",
    "\n",
    "-Look at R^2 when needed. "
   ]
  }
 ],
 "metadata": {
  "kernelspec": {
   "display_name": "base",
   "language": "python",
   "name": "python3"
  },
  "language_info": {
   "codemirror_mode": {
    "name": "ipython",
    "version": 3
   },
   "file_extension": ".py",
   "mimetype": "text/x-python",
   "name": "python",
   "nbconvert_exporter": "python",
   "pygments_lexer": "ipython3",
   "version": "3.12.7"
  }
 },
 "nbformat": 4,
 "nbformat_minor": 5
}
