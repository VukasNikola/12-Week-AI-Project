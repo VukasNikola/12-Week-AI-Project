{
 "cells": [
  {
   "cell_type": "code",
   "execution_count": null,
   "id": "3d789d49",
   "metadata": {},
   "outputs": [
    {
     "name": "stdout",
     "output_type": "stream",
     "text": [
      "For shift of 1 we get: AI GSQI MR TIEGI \n",
      "\n",
      "For shift of 2 we get: ZH FRPH LQ SHDFH \n",
      "\n",
      "For shift of 3 we get: YG EQOG KP RGCEG \n",
      "\n",
      "For shift of 4 we get: XF DPNF JO QFBDF \n",
      "\n",
      "For shift of 5 we get: WE COME IN PEACE \n",
      "\n",
      "For shift of 6 we get: VD BNLD HM ODZBD \n",
      "\n",
      "For shift of 7 we get: UC AMKC GL NCYAC \n",
      "\n",
      "For shift of 8 we get: TB ZLJB FK MBXZB \n",
      "\n",
      "For shift of 9 we get: SA YKIA EJ LAWYA \n",
      "\n",
      "For shift of 10 we get: RZ XJHZ DI KZVXZ \n",
      "\n",
      "For shift of 11 we get: QY WIGY CH JYUWY \n",
      "\n",
      "For shift of 12 we get: PX VHFX BG IXTVX \n",
      "\n",
      "For shift of 13 we get: OW UGEW AF HWSUW \n",
      "\n",
      "For shift of 14 we get: NV TFDV ZE GVRTV \n",
      "\n",
      "For shift of 15 we get: MU SECU YD FUQSU \n",
      "\n",
      "For shift of 16 we get: LT RDBT XC ETPRT \n",
      "\n",
      "For shift of 17 we get: KS QCAS WB DSOQS \n",
      "\n",
      "For shift of 18 we get: JR PBZR VA CRNPR \n",
      "\n",
      "For shift of 19 we get: IQ OAYQ UZ BQMOQ \n",
      "\n",
      "For shift of 20 we get: HP NZXP TY APLNP \n",
      "\n",
      "For shift of 21 we get: GO MYWO SX ZOKMO \n",
      "\n",
      "For shift of 22 we get: FN LXVN RW YNJLN \n",
      "\n",
      "For shift of 23 we get: EM KWUM QV XMIKM \n",
      "\n",
      "For shift of 24 we get: DL JVTL PU WLHJL \n",
      "\n",
      "For shift of 25 we get: CK IUSK OT VKGIK \n",
      "\n",
      "For shift of 26 we get: BJ HTRJ NS UJFHJ \n",
      "\n",
      "For shift of 27 we get: AI GSQI MR TIEGI \n",
      "\n",
      "For shift of 28 we get: @H FRPH LQ SHDFH \n",
      "\n",
      "\n"
     ]
    }
   ],
   "source": [
    "message = \"BJ HTRJ NS UJFHJ\"\n",
    "\n",
    "output = ''\n",
    "for i in range(1,29):\n",
    "    for char in message:\n",
    "        if char.isalpha():\n",
    "            if ord(char)-i < 65:\n",
    "                output += chr(91 - (65 - (ord(char)-i))%65)\n",
    "            else:\n",
    "                output += (chr(ord(char)-i))\n",
    "        else:\n",
    "            output += char\n",
    "    print(f'For shift of {i} we get: {output} \\n')\n",
    "    output = ''    \n",
    "        \n",
    "print(output)\n",
    "#Will check at the end of the week"
   ]
  },
  {
   "cell_type": "code",
   "execution_count": null,
   "id": "6e49915b",
   "metadata": {},
   "outputs": [],
   "source": []
  }
 ],
 "metadata": {
  "kernelspec": {
   "display_name": "base",
   "language": "python",
   "name": "python3"
  },
  "language_info": {
   "codemirror_mode": {
    "name": "ipython",
    "version": 3
   },
   "file_extension": ".py",
   "mimetype": "text/x-python",
   "name": "python",
   "nbconvert_exporter": "python",
   "pygments_lexer": "ipython3",
   "version": "3.12.7"
  }
 },
 "nbformat": 4,
 "nbformat_minor": 5
}
