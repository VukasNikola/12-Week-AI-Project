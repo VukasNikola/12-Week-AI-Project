{
 "cells": [
  {
   "cell_type": "code",
   "execution_count": 28,
   "id": "1d7b31cf",
   "metadata": {},
   "outputs": [
    {
     "name": "stdout",
     "output_type": "stream",
     "text": [
      "Farthest planet is Pizzzomr-653 (1987.9 light years away!)\n",
      "Average planet distance is 974.0!\n"
     ]
    }
   ],
   "source": [
    "import pandas as pd\n",
    "\n",
    "planets = pd.read_csv('Exoplanet_Data_100_Samples_.csv')\n",
    "\n",
    "\n",
    "# farthestPlanet = planets.sort_values(by='Distance_LY').iloc[-1,:]\n",
    "\n",
    "# farthestPlanet = planets.loc[planets['Distance_LY'].idxmax()]\n",
    "\n",
    "furthestPlanet = planets.query('Distance_LY == Distance_LY.max()')  #I like this the best!!\n",
    "\n",
    "averageDistance = planets.Distance_LY.mean().round()\n",
    "\n",
    "print(f'Farthest planet is {farthestPlanet.Planet} ({farthestPlanet.Distance_LY} light years away!)')\n",
    "print(f'Average planet distance is {averageDistance}!')"
   ]
  },
  {
   "cell_type": "code",
   "execution_count": null,
   "id": "a077287d",
   "metadata": {},
   "outputs": [],
   "source": []
  }
 ],
 "metadata": {
  "kernelspec": {
   "display_name": "base",
   "language": "python",
   "name": "python3"
  },
  "language_info": {
   "codemirror_mode": {
    "name": "ipython",
    "version": 3
   },
   "file_extension": ".py",
   "mimetype": "text/x-python",
   "name": "python",
   "nbconvert_exporter": "python",
   "pygments_lexer": "ipython3",
   "version": "3.12.7"
  }
 },
 "nbformat": 4,
 "nbformat_minor": 5
}
