{
 "cells": [
  {
   "cell_type": "code",
   "execution_count": 12,
   "id": "ec291982",
   "metadata": {},
   "outputs": [
    {
     "data": {
      "text/plain": [
       "tensor([  6.,  37.,  93., 162., 218., 222., 160.,  70.,  23.,   9.])"
      ]
     },
     "execution_count": 12,
     "metadata": {},
     "output_type": "execute_result"
    }
   ],
   "source": [
    "import torch\n",
    "import matplotlib.pyplot as plt\n",
    "%matplotlib inline\n",
    "\n",
    "\n",
    "torch.randint(1,9,(2,2))\n",
    "torch.randperm(10)\n",
    "a = torch.randn(1000)\n",
    "b = torch.histogram(a,10)\n",
    "b[0]"
   ]
  },
  {
   "cell_type": "code",
   "execution_count": 14,
   "id": "fddf214f",
   "metadata": {},
   "outputs": [
    {
     "data": {
      "text/plain": [
       "tensor([[1.8000, 1.8000, 1.8000, 1.8000, 1.8000],\n",
       "        [1.8000, 1.8000, 1.8000, 1.8000, 1.8000],\n",
       "        [1.8000, 1.8000, 1.8000, 1.8000, 1.8000],\n",
       "        [1.8000, 1.8000, 1.8000, 1.8000, 1.8000],\n",
       "        [1.8000, 1.8000, 1.8000, 1.8000, 1.8000]])"
      ]
     },
     "execution_count": 14,
     "metadata": {},
     "output_type": "execute_result"
    }
   ],
   "source": [
    "torch.full((5,5),1.8)"
   ]
  },
  {
   "cell_type": "code",
   "execution_count": null,
   "id": "205adccd",
   "metadata": {},
   "outputs": [
    {
     "data": {
      "text/plain": [
       "tensor([[[-1.1676, -0.3431, -1.4590,  0.0700],\n",
       "         [ 0.2077,  0.5903, -0.3509, -0.4590],\n",
       "         [-0.2752, -1.0913, -1.0899,  0.9409]],\n",
       "\n",
       "        [[ 1.0014, -0.1657, -0.0807, -1.3620],\n",
       "         [-0.1968,  0.0362, -0.1298, -0.0812],\n",
       "         [-0.0478,  0.6048, -1.6956,  0.6388]]])"
      ]
     },
     "execution_count": 28,
     "metadata": {},
     "output_type": "execute_result"
    }
   ],
   "source": [
    "t = torch.randn(2,3,4) # blocks,rows,columns,chanells. \n",
    "t"
   ]
  },
  {
   "cell_type": "code",
   "execution_count": null,
   "id": "ece4bf6c",
   "metadata": {},
   "outputs": [],
   "source": []
  }
 ],
 "metadata": {
  "kernelspec": {
   "display_name": "base",
   "language": "python",
   "name": "python3"
  },
  "language_info": {
   "codemirror_mode": {
    "name": "ipython",
    "version": 3
   },
   "file_extension": ".py",
   "mimetype": "text/x-python",
   "name": "python",
   "nbconvert_exporter": "python",
   "pygments_lexer": "ipython3",
   "version": "3.12.7"
  }
 },
 "nbformat": 4,
 "nbformat_minor": 5
}
